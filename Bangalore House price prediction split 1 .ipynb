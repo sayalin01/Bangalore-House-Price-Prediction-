{
 "cells": [
  {
   "cell_type": "code",
   "execution_count": 131,
   "id": "c2f8c289",
   "metadata": {},
   "outputs": [],
   "source": [
    "import numpy as np\n",
    "import pandas as pd"
   ]
  },
  {
   "cell_type": "code",
   "execution_count": 132,
   "id": "951bdeda",
   "metadata": {},
   "outputs": [],
   "source": [
    "bg=pd.read_csv(r\"C:\\Users\\Dell\\OneDrive\\Documents\\data science\\datasets\\Bengaluru_House_Data.csv\")"
   ]
  },
  {
   "cell_type": "code",
   "execution_count": 133,
   "id": "610625e4",
   "metadata": {},
   "outputs": [
    {
     "data": {
      "text/html": [
       "<div>\n",
       "<style scoped>\n",
       "    .dataframe tbody tr th:only-of-type {\n",
       "        vertical-align: middle;\n",
       "    }\n",
       "\n",
       "    .dataframe tbody tr th {\n",
       "        vertical-align: top;\n",
       "    }\n",
       "\n",
       "    .dataframe thead th {\n",
       "        text-align: right;\n",
       "    }\n",
       "</style>\n",
       "<table border=\"1\" class=\"dataframe\">\n",
       "  <thead>\n",
       "    <tr style=\"text-align: right;\">\n",
       "      <th></th>\n",
       "      <th>area_type</th>\n",
       "      <th>availability</th>\n",
       "      <th>location</th>\n",
       "      <th>size</th>\n",
       "      <th>society</th>\n",
       "      <th>total_sqft</th>\n",
       "      <th>bath</th>\n",
       "      <th>balcony</th>\n",
       "      <th>price</th>\n",
       "    </tr>\n",
       "  </thead>\n",
       "  <tbody>\n",
       "    <tr>\n",
       "      <th>0</th>\n",
       "      <td>Super built-up  Area</td>\n",
       "      <td>19-Dec</td>\n",
       "      <td>Electronic City Phase II</td>\n",
       "      <td>2 BHK</td>\n",
       "      <td>Coomee</td>\n",
       "      <td>1056</td>\n",
       "      <td>2.0</td>\n",
       "      <td>1.0</td>\n",
       "      <td>39.07</td>\n",
       "    </tr>\n",
       "    <tr>\n",
       "      <th>1</th>\n",
       "      <td>Plot  Area</td>\n",
       "      <td>Ready To Move</td>\n",
       "      <td>Chikka Tirupathi</td>\n",
       "      <td>4 Bedroom</td>\n",
       "      <td>Theanmp</td>\n",
       "      <td>2600</td>\n",
       "      <td>5.0</td>\n",
       "      <td>3.0</td>\n",
       "      <td>120.00</td>\n",
       "    </tr>\n",
       "    <tr>\n",
       "      <th>2</th>\n",
       "      <td>Built-up  Area</td>\n",
       "      <td>Ready To Move</td>\n",
       "      <td>Uttarahalli</td>\n",
       "      <td>3 BHK</td>\n",
       "      <td>NaN</td>\n",
       "      <td>1440</td>\n",
       "      <td>2.0</td>\n",
       "      <td>3.0</td>\n",
       "      <td>62.00</td>\n",
       "    </tr>\n",
       "    <tr>\n",
       "      <th>3</th>\n",
       "      <td>Super built-up  Area</td>\n",
       "      <td>Ready To Move</td>\n",
       "      <td>Lingadheeranahalli</td>\n",
       "      <td>3 BHK</td>\n",
       "      <td>Soiewre</td>\n",
       "      <td>1521</td>\n",
       "      <td>3.0</td>\n",
       "      <td>1.0</td>\n",
       "      <td>95.00</td>\n",
       "    </tr>\n",
       "    <tr>\n",
       "      <th>4</th>\n",
       "      <td>Super built-up  Area</td>\n",
       "      <td>Ready To Move</td>\n",
       "      <td>Kothanur</td>\n",
       "      <td>2 BHK</td>\n",
       "      <td>NaN</td>\n",
       "      <td>1200</td>\n",
       "      <td>2.0</td>\n",
       "      <td>1.0</td>\n",
       "      <td>51.00</td>\n",
       "    </tr>\n",
       "    <tr>\n",
       "      <th>5</th>\n",
       "      <td>Super built-up  Area</td>\n",
       "      <td>Ready To Move</td>\n",
       "      <td>Whitefield</td>\n",
       "      <td>2 BHK</td>\n",
       "      <td>DuenaTa</td>\n",
       "      <td>1170</td>\n",
       "      <td>2.0</td>\n",
       "      <td>1.0</td>\n",
       "      <td>38.00</td>\n",
       "    </tr>\n",
       "    <tr>\n",
       "      <th>6</th>\n",
       "      <td>Super built-up  Area</td>\n",
       "      <td>18-May</td>\n",
       "      <td>Old Airport Road</td>\n",
       "      <td>4 BHK</td>\n",
       "      <td>Jaades</td>\n",
       "      <td>2732</td>\n",
       "      <td>4.0</td>\n",
       "      <td>NaN</td>\n",
       "      <td>204.00</td>\n",
       "    </tr>\n",
       "    <tr>\n",
       "      <th>7</th>\n",
       "      <td>Super built-up  Area</td>\n",
       "      <td>Ready To Move</td>\n",
       "      <td>Rajaji Nagar</td>\n",
       "      <td>4 BHK</td>\n",
       "      <td>Brway G</td>\n",
       "      <td>3300</td>\n",
       "      <td>4.0</td>\n",
       "      <td>NaN</td>\n",
       "      <td>600.00</td>\n",
       "    </tr>\n",
       "    <tr>\n",
       "      <th>8</th>\n",
       "      <td>Super built-up  Area</td>\n",
       "      <td>Ready To Move</td>\n",
       "      <td>Marathahalli</td>\n",
       "      <td>3 BHK</td>\n",
       "      <td>NaN</td>\n",
       "      <td>1310</td>\n",
       "      <td>3.0</td>\n",
       "      <td>1.0</td>\n",
       "      <td>63.25</td>\n",
       "    </tr>\n",
       "    <tr>\n",
       "      <th>9</th>\n",
       "      <td>Plot  Area</td>\n",
       "      <td>Ready To Move</td>\n",
       "      <td>Gandhi Bazar</td>\n",
       "      <td>6 Bedroom</td>\n",
       "      <td>NaN</td>\n",
       "      <td>1020</td>\n",
       "      <td>6.0</td>\n",
       "      <td>NaN</td>\n",
       "      <td>370.00</td>\n",
       "    </tr>\n",
       "    <tr>\n",
       "      <th>10</th>\n",
       "      <td>Super built-up  Area</td>\n",
       "      <td>18-Feb</td>\n",
       "      <td>Whitefield</td>\n",
       "      <td>3 BHK</td>\n",
       "      <td>NaN</td>\n",
       "      <td>1800</td>\n",
       "      <td>2.0</td>\n",
       "      <td>2.0</td>\n",
       "      <td>70.00</td>\n",
       "    </tr>\n",
       "    <tr>\n",
       "      <th>11</th>\n",
       "      <td>Plot  Area</td>\n",
       "      <td>Ready To Move</td>\n",
       "      <td>Whitefield</td>\n",
       "      <td>4 Bedroom</td>\n",
       "      <td>Prrry M</td>\n",
       "      <td>2785</td>\n",
       "      <td>5.0</td>\n",
       "      <td>3.0</td>\n",
       "      <td>295.00</td>\n",
       "    </tr>\n",
       "    <tr>\n",
       "      <th>12</th>\n",
       "      <td>Super built-up  Area</td>\n",
       "      <td>Ready To Move</td>\n",
       "      <td>7th Phase JP Nagar</td>\n",
       "      <td>2 BHK</td>\n",
       "      <td>Shncyes</td>\n",
       "      <td>1000</td>\n",
       "      <td>2.0</td>\n",
       "      <td>1.0</td>\n",
       "      <td>38.00</td>\n",
       "    </tr>\n",
       "    <tr>\n",
       "      <th>13</th>\n",
       "      <td>Built-up  Area</td>\n",
       "      <td>Ready To Move</td>\n",
       "      <td>Gottigere</td>\n",
       "      <td>2 BHK</td>\n",
       "      <td>NaN</td>\n",
       "      <td>1100</td>\n",
       "      <td>2.0</td>\n",
       "      <td>2.0</td>\n",
       "      <td>40.00</td>\n",
       "    </tr>\n",
       "    <tr>\n",
       "      <th>14</th>\n",
       "      <td>Plot  Area</td>\n",
       "      <td>Ready To Move</td>\n",
       "      <td>Sarjapur</td>\n",
       "      <td>3 Bedroom</td>\n",
       "      <td>Skityer</td>\n",
       "      <td>2250</td>\n",
       "      <td>3.0</td>\n",
       "      <td>2.0</td>\n",
       "      <td>148.00</td>\n",
       "    </tr>\n",
       "    <tr>\n",
       "      <th>15</th>\n",
       "      <td>Super built-up  Area</td>\n",
       "      <td>Ready To Move</td>\n",
       "      <td>Mysore Road</td>\n",
       "      <td>2 BHK</td>\n",
       "      <td>PrntaEn</td>\n",
       "      <td>1175</td>\n",
       "      <td>2.0</td>\n",
       "      <td>2.0</td>\n",
       "      <td>73.50</td>\n",
       "    </tr>\n",
       "    <tr>\n",
       "      <th>16</th>\n",
       "      <td>Super built-up  Area</td>\n",
       "      <td>Ready To Move</td>\n",
       "      <td>Bisuvanahalli</td>\n",
       "      <td>3 BHK</td>\n",
       "      <td>Prityel</td>\n",
       "      <td>1180</td>\n",
       "      <td>3.0</td>\n",
       "      <td>2.0</td>\n",
       "      <td>48.00</td>\n",
       "    </tr>\n",
       "    <tr>\n",
       "      <th>17</th>\n",
       "      <td>Super built-up  Area</td>\n",
       "      <td>Ready To Move</td>\n",
       "      <td>Raja Rajeshwari Nagar</td>\n",
       "      <td>3 BHK</td>\n",
       "      <td>GrrvaGr</td>\n",
       "      <td>1540</td>\n",
       "      <td>3.0</td>\n",
       "      <td>3.0</td>\n",
       "      <td>60.00</td>\n",
       "    </tr>\n",
       "    <tr>\n",
       "      <th>18</th>\n",
       "      <td>Super built-up  Area</td>\n",
       "      <td>Ready To Move</td>\n",
       "      <td>Ramakrishnappa Layout</td>\n",
       "      <td>3 BHK</td>\n",
       "      <td>PeBayle</td>\n",
       "      <td>2770</td>\n",
       "      <td>4.0</td>\n",
       "      <td>2.0</td>\n",
       "      <td>290.00</td>\n",
       "    </tr>\n",
       "    <tr>\n",
       "      <th>19</th>\n",
       "      <td>Super built-up  Area</td>\n",
       "      <td>Ready To Move</td>\n",
       "      <td>Manayata Tech Park</td>\n",
       "      <td>2 BHK</td>\n",
       "      <td>NaN</td>\n",
       "      <td>1100</td>\n",
       "      <td>2.0</td>\n",
       "      <td>2.0</td>\n",
       "      <td>48.00</td>\n",
       "    </tr>\n",
       "    <tr>\n",
       "      <th>20</th>\n",
       "      <td>Built-up  Area</td>\n",
       "      <td>Ready To Move</td>\n",
       "      <td>Kengeri</td>\n",
       "      <td>1 BHK</td>\n",
       "      <td>NaN</td>\n",
       "      <td>600</td>\n",
       "      <td>1.0</td>\n",
       "      <td>1.0</td>\n",
       "      <td>15.00</td>\n",
       "    </tr>\n",
       "    <tr>\n",
       "      <th>21</th>\n",
       "      <td>Super built-up  Area</td>\n",
       "      <td>19-Dec</td>\n",
       "      <td>Binny Pete</td>\n",
       "      <td>3 BHK</td>\n",
       "      <td>She 2rk</td>\n",
       "      <td>1755</td>\n",
       "      <td>3.0</td>\n",
       "      <td>1.0</td>\n",
       "      <td>122.00</td>\n",
       "    </tr>\n",
       "    <tr>\n",
       "      <th>22</th>\n",
       "      <td>Plot  Area</td>\n",
       "      <td>Ready To Move</td>\n",
       "      <td>Thanisandra</td>\n",
       "      <td>4 Bedroom</td>\n",
       "      <td>Soitya</td>\n",
       "      <td>2800</td>\n",
       "      <td>5.0</td>\n",
       "      <td>2.0</td>\n",
       "      <td>380.00</td>\n",
       "    </tr>\n",
       "    <tr>\n",
       "      <th>23</th>\n",
       "      <td>Super built-up  Area</td>\n",
       "      <td>Ready To Move</td>\n",
       "      <td>Bellandur</td>\n",
       "      <td>3 BHK</td>\n",
       "      <td>NaN</td>\n",
       "      <td>1767</td>\n",
       "      <td>3.0</td>\n",
       "      <td>1.0</td>\n",
       "      <td>103.00</td>\n",
       "    </tr>\n",
       "    <tr>\n",
       "      <th>24</th>\n",
       "      <td>Super built-up  Area</td>\n",
       "      <td>18-Nov</td>\n",
       "      <td>Thanisandra</td>\n",
       "      <td>1 RK</td>\n",
       "      <td>Bhe 2ko</td>\n",
       "      <td>510</td>\n",
       "      <td>1.0</td>\n",
       "      <td>0.0</td>\n",
       "      <td>25.25</td>\n",
       "    </tr>\n",
       "    <tr>\n",
       "      <th>25</th>\n",
       "      <td>Super built-up  Area</td>\n",
       "      <td>18-May</td>\n",
       "      <td>Mangammanapalya</td>\n",
       "      <td>3 BHK</td>\n",
       "      <td>NaN</td>\n",
       "      <td>1250</td>\n",
       "      <td>3.0</td>\n",
       "      <td>2.0</td>\n",
       "      <td>56.00</td>\n",
       "    </tr>\n",
       "    <tr>\n",
       "      <th>26</th>\n",
       "      <td>Super built-up  Area</td>\n",
       "      <td>Ready To Move</td>\n",
       "      <td>Electronic City</td>\n",
       "      <td>2 BHK</td>\n",
       "      <td>Itelaa</td>\n",
       "      <td>660</td>\n",
       "      <td>1.0</td>\n",
       "      <td>1.0</td>\n",
       "      <td>23.10</td>\n",
       "    </tr>\n",
       "    <tr>\n",
       "      <th>27</th>\n",
       "      <td>Built-up  Area</td>\n",
       "      <td>20-Dec</td>\n",
       "      <td>Whitefield</td>\n",
       "      <td>3 BHK</td>\n",
       "      <td>NaN</td>\n",
       "      <td>1610</td>\n",
       "      <td>3.0</td>\n",
       "      <td>2.0</td>\n",
       "      <td>81.00</td>\n",
       "    </tr>\n",
       "    <tr>\n",
       "      <th>28</th>\n",
       "      <td>Super built-up  Area</td>\n",
       "      <td>17-Oct</td>\n",
       "      <td>Ramagondanahalli</td>\n",
       "      <td>2 BHK</td>\n",
       "      <td>ViistLa</td>\n",
       "      <td>1151</td>\n",
       "      <td>2.0</td>\n",
       "      <td>2.0</td>\n",
       "      <td>48.77</td>\n",
       "    </tr>\n",
       "    <tr>\n",
       "      <th>29</th>\n",
       "      <td>Super built-up  Area</td>\n",
       "      <td>Ready To Move</td>\n",
       "      <td>Electronic City</td>\n",
       "      <td>3 BHK</td>\n",
       "      <td>KBityo</td>\n",
       "      <td>1025</td>\n",
       "      <td>2.0</td>\n",
       "      <td>1.0</td>\n",
       "      <td>47.00</td>\n",
       "    </tr>\n",
       "    <tr>\n",
       "      <th>30</th>\n",
       "      <td>Super built-up  Area</td>\n",
       "      <td>19-Dec</td>\n",
       "      <td>Yelahanka</td>\n",
       "      <td>4 BHK</td>\n",
       "      <td>LedorSa</td>\n",
       "      <td>2100 - 2850</td>\n",
       "      <td>4.0</td>\n",
       "      <td>0.0</td>\n",
       "      <td>186.00</td>\n",
       "    </tr>\n",
       "    <tr>\n",
       "      <th>31</th>\n",
       "      <td>Super built-up  Area</td>\n",
       "      <td>Ready To Move</td>\n",
       "      <td>Bisuvanahalli</td>\n",
       "      <td>3 BHK</td>\n",
       "      <td>Prityel</td>\n",
       "      <td>1075</td>\n",
       "      <td>2.0</td>\n",
       "      <td>1.0</td>\n",
       "      <td>35.00</td>\n",
       "    </tr>\n",
       "    <tr>\n",
       "      <th>32</th>\n",
       "      <td>Super built-up  Area</td>\n",
       "      <td>Ready To Move</td>\n",
       "      <td>Hebbal</td>\n",
       "      <td>3 BHK</td>\n",
       "      <td>Mahosya</td>\n",
       "      <td>1760</td>\n",
       "      <td>2.0</td>\n",
       "      <td>2.0</td>\n",
       "      <td>123.00</td>\n",
       "    </tr>\n",
       "    <tr>\n",
       "      <th>33</th>\n",
       "      <td>Super built-up  Area</td>\n",
       "      <td>Ready To Move</td>\n",
       "      <td>Raja Rajeshwari Nagar</td>\n",
       "      <td>3 BHK</td>\n",
       "      <td>GrrvaGr</td>\n",
       "      <td>1693</td>\n",
       "      <td>3.0</td>\n",
       "      <td>3.0</td>\n",
       "      <td>57.39</td>\n",
       "    </tr>\n",
       "    <tr>\n",
       "      <th>34</th>\n",
       "      <td>Built-up  Area</td>\n",
       "      <td>Ready To Move</td>\n",
       "      <td>Kasturi Nagar</td>\n",
       "      <td>3 BHK</td>\n",
       "      <td>Kantsce</td>\n",
       "      <td>1925</td>\n",
       "      <td>3.0</td>\n",
       "      <td>NaN</td>\n",
       "      <td>125.00</td>\n",
       "    </tr>\n",
       "    <tr>\n",
       "      <th>35</th>\n",
       "      <td>Super built-up  Area</td>\n",
       "      <td>21-Dec</td>\n",
       "      <td>Kanakpura Road</td>\n",
       "      <td>2 BHK</td>\n",
       "      <td>PrarePa</td>\n",
       "      <td>700</td>\n",
       "      <td>2.0</td>\n",
       "      <td>1.0</td>\n",
       "      <td>36.00</td>\n",
       "    </tr>\n",
       "    <tr>\n",
       "      <th>36</th>\n",
       "      <td>Super built-up  Area</td>\n",
       "      <td>Ready To Move</td>\n",
       "      <td>Electronics City Phase 1</td>\n",
       "      <td>2 BHK</td>\n",
       "      <td>NaN</td>\n",
       "      <td>1070</td>\n",
       "      <td>2.0</td>\n",
       "      <td>1.0</td>\n",
       "      <td>45.50</td>\n",
       "    </tr>\n",
       "    <tr>\n",
       "      <th>37</th>\n",
       "      <td>Super built-up  Area</td>\n",
       "      <td>Ready To Move</td>\n",
       "      <td>Kundalahalli</td>\n",
       "      <td>3 BHK</td>\n",
       "      <td>Dieldli</td>\n",
       "      <td>1724</td>\n",
       "      <td>3.0</td>\n",
       "      <td>2.0</td>\n",
       "      <td>125.00</td>\n",
       "    </tr>\n",
       "    <tr>\n",
       "      <th>38</th>\n",
       "      <td>Super built-up  Area</td>\n",
       "      <td>Ready To Move</td>\n",
       "      <td>Chikkalasandra</td>\n",
       "      <td>3 BHK</td>\n",
       "      <td>NaN</td>\n",
       "      <td>1290</td>\n",
       "      <td>2.0</td>\n",
       "      <td>2.0</td>\n",
       "      <td>56.12</td>\n",
       "    </tr>\n",
       "    <tr>\n",
       "      <th>39</th>\n",
       "      <td>Built-up  Area</td>\n",
       "      <td>Ready To Move</td>\n",
       "      <td>Uttarahalli</td>\n",
       "      <td>2 BHK</td>\n",
       "      <td>NaN</td>\n",
       "      <td>1143</td>\n",
       "      <td>2.0</td>\n",
       "      <td>2.0</td>\n",
       "      <td>45.00</td>\n",
       "    </tr>\n",
       "    <tr>\n",
       "      <th>40</th>\n",
       "      <td>Built-up  Area</td>\n",
       "      <td>Ready To Move</td>\n",
       "      <td>Murugeshpalya</td>\n",
       "      <td>2 BHK</td>\n",
       "      <td>Gentson</td>\n",
       "      <td>1296</td>\n",
       "      <td>2.0</td>\n",
       "      <td>NaN</td>\n",
       "      <td>81.00</td>\n",
       "    </tr>\n",
       "    <tr>\n",
       "      <th>41</th>\n",
       "      <td>Super built-up  Area</td>\n",
       "      <td>19-Dec</td>\n",
       "      <td>Sarjapur  Road</td>\n",
       "      <td>3 BHK</td>\n",
       "      <td>Soini T</td>\n",
       "      <td>1254</td>\n",
       "      <td>3.0</td>\n",
       "      <td>2.0</td>\n",
       "      <td>38.00</td>\n",
       "    </tr>\n",
       "    <tr>\n",
       "      <th>42</th>\n",
       "      <td>Super built-up  Area</td>\n",
       "      <td>Ready To Move</td>\n",
       "      <td>Ganga Nagar</td>\n",
       "      <td>1 BHK</td>\n",
       "      <td>Ceove G</td>\n",
       "      <td>600</td>\n",
       "      <td>1.0</td>\n",
       "      <td>0.0</td>\n",
       "      <td>38.00</td>\n",
       "    </tr>\n",
       "    <tr>\n",
       "      <th>43</th>\n",
       "      <td>Plot  Area</td>\n",
       "      <td>Ready To Move</td>\n",
       "      <td>Yelahanka</td>\n",
       "      <td>1 Bedroom</td>\n",
       "      <td>NaN</td>\n",
       "      <td>660</td>\n",
       "      <td>1.0</td>\n",
       "      <td>0.0</td>\n",
       "      <td>48.00</td>\n",
       "    </tr>\n",
       "    <tr>\n",
       "      <th>44</th>\n",
       "      <td>Super built-up  Area</td>\n",
       "      <td>19-Sep</td>\n",
       "      <td>Kanakpura Road</td>\n",
       "      <td>2 BHK</td>\n",
       "      <td>Soazak</td>\n",
       "      <td>1330.74</td>\n",
       "      <td>2.0</td>\n",
       "      <td>2.0</td>\n",
       "      <td>91.79</td>\n",
       "    </tr>\n",
       "    <tr>\n",
       "      <th>45</th>\n",
       "      <td>Plot  Area</td>\n",
       "      <td>Ready To Move</td>\n",
       "      <td>HSR Layout</td>\n",
       "      <td>8 Bedroom</td>\n",
       "      <td>NaN</td>\n",
       "      <td>600</td>\n",
       "      <td>9.0</td>\n",
       "      <td>NaN</td>\n",
       "      <td>200.00</td>\n",
       "    </tr>\n",
       "    <tr>\n",
       "      <th>46</th>\n",
       "      <td>Super built-up  Area</td>\n",
       "      <td>Ready To Move</td>\n",
       "      <td>Doddathoguru</td>\n",
       "      <td>2 BHK</td>\n",
       "      <td>LancyRe</td>\n",
       "      <td>970</td>\n",
       "      <td>2.0</td>\n",
       "      <td>0.0</td>\n",
       "      <td>33.00</td>\n",
       "    </tr>\n",
       "    <tr>\n",
       "      <th>47</th>\n",
       "      <td>Super built-up  Area</td>\n",
       "      <td>20-Sep</td>\n",
       "      <td>Whitefield</td>\n",
       "      <td>2 BHK</td>\n",
       "      <td>Goted U</td>\n",
       "      <td>1459</td>\n",
       "      <td>2.0</td>\n",
       "      <td>1.0</td>\n",
       "      <td>94.82</td>\n",
       "    </tr>\n",
       "    <tr>\n",
       "      <th>48</th>\n",
       "      <td>Plot  Area</td>\n",
       "      <td>Ready To Move</td>\n",
       "      <td>KR Puram</td>\n",
       "      <td>2 Bedroom</td>\n",
       "      <td>NaN</td>\n",
       "      <td>800</td>\n",
       "      <td>1.0</td>\n",
       "      <td>1.0</td>\n",
       "      <td>130.00</td>\n",
       "    </tr>\n",
       "    <tr>\n",
       "      <th>49</th>\n",
       "      <td>Built-up  Area</td>\n",
       "      <td>Ready To Move</td>\n",
       "      <td>Himagiri Meadows</td>\n",
       "      <td>2 BHK</td>\n",
       "      <td>NaN</td>\n",
       "      <td>869</td>\n",
       "      <td>2.0</td>\n",
       "      <td>1.0</td>\n",
       "      <td>36.00</td>\n",
       "    </tr>\n",
       "  </tbody>\n",
       "</table>\n",
       "</div>"
      ],
      "text/plain": [
       "               area_type   availability                  location       size  \\\n",
       "0   Super built-up  Area         19-Dec  Electronic City Phase II      2 BHK   \n",
       "1             Plot  Area  Ready To Move          Chikka Tirupathi  4 Bedroom   \n",
       "2         Built-up  Area  Ready To Move               Uttarahalli      3 BHK   \n",
       "3   Super built-up  Area  Ready To Move        Lingadheeranahalli      3 BHK   \n",
       "4   Super built-up  Area  Ready To Move                  Kothanur      2 BHK   \n",
       "5   Super built-up  Area  Ready To Move                Whitefield      2 BHK   \n",
       "6   Super built-up  Area         18-May          Old Airport Road      4 BHK   \n",
       "7   Super built-up  Area  Ready To Move              Rajaji Nagar      4 BHK   \n",
       "8   Super built-up  Area  Ready To Move              Marathahalli      3 BHK   \n",
       "9             Plot  Area  Ready To Move              Gandhi Bazar  6 Bedroom   \n",
       "10  Super built-up  Area         18-Feb                Whitefield      3 BHK   \n",
       "11            Plot  Area  Ready To Move                Whitefield  4 Bedroom   \n",
       "12  Super built-up  Area  Ready To Move        7th Phase JP Nagar      2 BHK   \n",
       "13        Built-up  Area  Ready To Move                 Gottigere      2 BHK   \n",
       "14            Plot  Area  Ready To Move                  Sarjapur  3 Bedroom   \n",
       "15  Super built-up  Area  Ready To Move               Mysore Road      2 BHK   \n",
       "16  Super built-up  Area  Ready To Move             Bisuvanahalli      3 BHK   \n",
       "17  Super built-up  Area  Ready To Move     Raja Rajeshwari Nagar      3 BHK   \n",
       "18  Super built-up  Area  Ready To Move     Ramakrishnappa Layout      3 BHK   \n",
       "19  Super built-up  Area  Ready To Move        Manayata Tech Park      2 BHK   \n",
       "20        Built-up  Area  Ready To Move                   Kengeri      1 BHK   \n",
       "21  Super built-up  Area         19-Dec                Binny Pete      3 BHK   \n",
       "22            Plot  Area  Ready To Move               Thanisandra  4 Bedroom   \n",
       "23  Super built-up  Area  Ready To Move                 Bellandur      3 BHK   \n",
       "24  Super built-up  Area         18-Nov               Thanisandra       1 RK   \n",
       "25  Super built-up  Area         18-May           Mangammanapalya      3 BHK   \n",
       "26  Super built-up  Area  Ready To Move           Electronic City      2 BHK   \n",
       "27        Built-up  Area         20-Dec                Whitefield      3 BHK   \n",
       "28  Super built-up  Area         17-Oct          Ramagondanahalli      2 BHK   \n",
       "29  Super built-up  Area  Ready To Move           Electronic City      3 BHK   \n",
       "30  Super built-up  Area         19-Dec                 Yelahanka      4 BHK   \n",
       "31  Super built-up  Area  Ready To Move             Bisuvanahalli      3 BHK   \n",
       "32  Super built-up  Area  Ready To Move                    Hebbal      3 BHK   \n",
       "33  Super built-up  Area  Ready To Move     Raja Rajeshwari Nagar      3 BHK   \n",
       "34        Built-up  Area  Ready To Move             Kasturi Nagar      3 BHK   \n",
       "35  Super built-up  Area         21-Dec            Kanakpura Road      2 BHK   \n",
       "36  Super built-up  Area  Ready To Move  Electronics City Phase 1      2 BHK   \n",
       "37  Super built-up  Area  Ready To Move              Kundalahalli      3 BHK   \n",
       "38  Super built-up  Area  Ready To Move            Chikkalasandra      3 BHK   \n",
       "39        Built-up  Area  Ready To Move               Uttarahalli      2 BHK   \n",
       "40        Built-up  Area  Ready To Move             Murugeshpalya      2 BHK   \n",
       "41  Super built-up  Area         19-Dec            Sarjapur  Road      3 BHK   \n",
       "42  Super built-up  Area  Ready To Move               Ganga Nagar      1 BHK   \n",
       "43            Plot  Area  Ready To Move                 Yelahanka  1 Bedroom   \n",
       "44  Super built-up  Area         19-Sep            Kanakpura Road      2 BHK   \n",
       "45            Plot  Area  Ready To Move                HSR Layout  8 Bedroom   \n",
       "46  Super built-up  Area  Ready To Move              Doddathoguru      2 BHK   \n",
       "47  Super built-up  Area         20-Sep                Whitefield      2 BHK   \n",
       "48            Plot  Area  Ready To Move                  KR Puram  2 Bedroom   \n",
       "49        Built-up  Area  Ready To Move          Himagiri Meadows      2 BHK   \n",
       "\n",
       "    society   total_sqft  bath  balcony   price  \n",
       "0   Coomee          1056   2.0      1.0   39.07  \n",
       "1   Theanmp         2600   5.0      3.0  120.00  \n",
       "2       NaN         1440   2.0      3.0   62.00  \n",
       "3   Soiewre         1521   3.0      1.0   95.00  \n",
       "4       NaN         1200   2.0      1.0   51.00  \n",
       "5   DuenaTa         1170   2.0      1.0   38.00  \n",
       "6   Jaades          2732   4.0      NaN  204.00  \n",
       "7   Brway G         3300   4.0      NaN  600.00  \n",
       "8       NaN         1310   3.0      1.0   63.25  \n",
       "9       NaN         1020   6.0      NaN  370.00  \n",
       "10      NaN         1800   2.0      2.0   70.00  \n",
       "11  Prrry M         2785   5.0      3.0  295.00  \n",
       "12  Shncyes         1000   2.0      1.0   38.00  \n",
       "13      NaN         1100   2.0      2.0   40.00  \n",
       "14  Skityer         2250   3.0      2.0  148.00  \n",
       "15  PrntaEn         1175   2.0      2.0   73.50  \n",
       "16  Prityel         1180   3.0      2.0   48.00  \n",
       "17  GrrvaGr         1540   3.0      3.0   60.00  \n",
       "18  PeBayle         2770   4.0      2.0  290.00  \n",
       "19      NaN         1100   2.0      2.0   48.00  \n",
       "20      NaN          600   1.0      1.0   15.00  \n",
       "21  She 2rk         1755   3.0      1.0  122.00  \n",
       "22  Soitya          2800   5.0      2.0  380.00  \n",
       "23      NaN         1767   3.0      1.0  103.00  \n",
       "24  Bhe 2ko          510   1.0      0.0   25.25  \n",
       "25      NaN         1250   3.0      2.0   56.00  \n",
       "26  Itelaa           660   1.0      1.0   23.10  \n",
       "27      NaN         1610   3.0      2.0   81.00  \n",
       "28  ViistLa         1151   2.0      2.0   48.77  \n",
       "29  KBityo          1025   2.0      1.0   47.00  \n",
       "30  LedorSa  2100 - 2850   4.0      0.0  186.00  \n",
       "31  Prityel         1075   2.0      1.0   35.00  \n",
       "32  Mahosya         1760   2.0      2.0  123.00  \n",
       "33  GrrvaGr         1693   3.0      3.0   57.39  \n",
       "34  Kantsce         1925   3.0      NaN  125.00  \n",
       "35  PrarePa          700   2.0      1.0   36.00  \n",
       "36      NaN         1070   2.0      1.0   45.50  \n",
       "37  Dieldli         1724   3.0      2.0  125.00  \n",
       "38      NaN         1290   2.0      2.0   56.12  \n",
       "39      NaN         1143   2.0      2.0   45.00  \n",
       "40  Gentson         1296   2.0      NaN   81.00  \n",
       "41  Soini T         1254   3.0      2.0   38.00  \n",
       "42  Ceove G          600   1.0      0.0   38.00  \n",
       "43      NaN          660   1.0      0.0   48.00  \n",
       "44  Soazak       1330.74   2.0      2.0   91.79  \n",
       "45      NaN          600   9.0      NaN  200.00  \n",
       "46  LancyRe          970   2.0      0.0   33.00  \n",
       "47  Goted U         1459   2.0      1.0   94.82  \n",
       "48      NaN          800   1.0      1.0  130.00  \n",
       "49      NaN          869   2.0      1.0   36.00  "
      ]
     },
     "execution_count": 133,
     "metadata": {},
     "output_type": "execute_result"
    }
   ],
   "source": [
    "bg.head(50)"
   ]
  },
  {
   "cell_type": "code",
   "execution_count": 134,
   "id": "5125fdb6",
   "metadata": {},
   "outputs": [
    {
     "data": {
      "text/plain": [
       "(13320, 9)"
      ]
     },
     "execution_count": 134,
     "metadata": {},
     "output_type": "execute_result"
    }
   ],
   "source": [
    "bg.shape"
   ]
  },
  {
   "cell_type": "code",
   "execution_count": 135,
   "id": "1b34132c",
   "metadata": {},
   "outputs": [],
   "source": [
    "bgr=bg[(bg.price<=90)]"
   ]
  },
  {
   "cell_type": "code",
   "execution_count": 136,
   "id": "18165bfe",
   "metadata": {},
   "outputs": [
    {
     "data": {
      "text/html": [
       "<div>\n",
       "<style scoped>\n",
       "    .dataframe tbody tr th:only-of-type {\n",
       "        vertical-align: middle;\n",
       "    }\n",
       "\n",
       "    .dataframe tbody tr th {\n",
       "        vertical-align: top;\n",
       "    }\n",
       "\n",
       "    .dataframe thead th {\n",
       "        text-align: right;\n",
       "    }\n",
       "</style>\n",
       "<table border=\"1\" class=\"dataframe\">\n",
       "  <thead>\n",
       "    <tr style=\"text-align: right;\">\n",
       "      <th></th>\n",
       "      <th>area_type</th>\n",
       "      <th>availability</th>\n",
       "      <th>location</th>\n",
       "      <th>size</th>\n",
       "      <th>total_sqft</th>\n",
       "      <th>bath</th>\n",
       "      <th>balcony</th>\n",
       "      <th>price</th>\n",
       "    </tr>\n",
       "  </thead>\n",
       "  <tbody>\n",
       "    <tr>\n",
       "      <th>0</th>\n",
       "      <td>Super built-up  Area</td>\n",
       "      <td>19-Dec</td>\n",
       "      <td>Electronic City Phase II</td>\n",
       "      <td>2 BHK</td>\n",
       "      <td>1056</td>\n",
       "      <td>2.0</td>\n",
       "      <td>1.0</td>\n",
       "      <td>39.07</td>\n",
       "    </tr>\n",
       "    <tr>\n",
       "      <th>2</th>\n",
       "      <td>Built-up  Area</td>\n",
       "      <td>Ready To Move</td>\n",
       "      <td>Uttarahalli</td>\n",
       "      <td>3 BHK</td>\n",
       "      <td>1440</td>\n",
       "      <td>2.0</td>\n",
       "      <td>3.0</td>\n",
       "      <td>62.00</td>\n",
       "    </tr>\n",
       "    <tr>\n",
       "      <th>4</th>\n",
       "      <td>Super built-up  Area</td>\n",
       "      <td>Ready To Move</td>\n",
       "      <td>Kothanur</td>\n",
       "      <td>2 BHK</td>\n",
       "      <td>1200</td>\n",
       "      <td>2.0</td>\n",
       "      <td>1.0</td>\n",
       "      <td>51.00</td>\n",
       "    </tr>\n",
       "    <tr>\n",
       "      <th>5</th>\n",
       "      <td>Super built-up  Area</td>\n",
       "      <td>Ready To Move</td>\n",
       "      <td>Whitefield</td>\n",
       "      <td>2 BHK</td>\n",
       "      <td>1170</td>\n",
       "      <td>2.0</td>\n",
       "      <td>1.0</td>\n",
       "      <td>38.00</td>\n",
       "    </tr>\n",
       "    <tr>\n",
       "      <th>8</th>\n",
       "      <td>Super built-up  Area</td>\n",
       "      <td>Ready To Move</td>\n",
       "      <td>Marathahalli</td>\n",
       "      <td>3 BHK</td>\n",
       "      <td>1310</td>\n",
       "      <td>3.0</td>\n",
       "      <td>1.0</td>\n",
       "      <td>63.25</td>\n",
       "    </tr>\n",
       "  </tbody>\n",
       "</table>\n",
       "</div>"
      ],
      "text/plain": [
       "              area_type   availability                  location   size  \\\n",
       "0  Super built-up  Area         19-Dec  Electronic City Phase II  2 BHK   \n",
       "2        Built-up  Area  Ready To Move               Uttarahalli  3 BHK   \n",
       "4  Super built-up  Area  Ready To Move                  Kothanur  2 BHK   \n",
       "5  Super built-up  Area  Ready To Move                Whitefield  2 BHK   \n",
       "8  Super built-up  Area  Ready To Move              Marathahalli  3 BHK   \n",
       "\n",
       "  total_sqft  bath  balcony  price  \n",
       "0       1056   2.0      1.0  39.07  \n",
       "2       1440   2.0      3.0  62.00  \n",
       "4       1200   2.0      1.0  51.00  \n",
       "5       1170   2.0      1.0  38.00  \n",
       "8       1310   3.0      1.0  63.25  "
      ]
     },
     "execution_count": 136,
     "metadata": {},
     "output_type": "execute_result"
    }
   ],
   "source": [
    "bgr=bgr.drop([\"society\"],axis=1)\n",
    "bgr.head()"
   ]
  },
  {
   "cell_type": "code",
   "execution_count": 137,
   "id": "7f910e40",
   "metadata": {},
   "outputs": [
    {
     "data": {
      "text/plain": [
       "(8510, 8)"
      ]
     },
     "execution_count": 137,
     "metadata": {},
     "output_type": "execute_result"
    }
   ],
   "source": [
    "bgr.shape"
   ]
  },
  {
   "cell_type": "code",
   "execution_count": 138,
   "id": "54b1ccef",
   "metadata": {},
   "outputs": [],
   "source": [
    "#Data Cleaning Process\n",
    "# 1 checking the nulls"
   ]
  },
  {
   "cell_type": "code",
   "execution_count": 139,
   "id": "8d0f1c8c",
   "metadata": {},
   "outputs": [
    {
     "data": {
      "text/plain": [
       "location      1\n",
       "size         11\n",
       "bath         34\n",
       "balcony     144\n",
       "dtype: int64"
      ]
     },
     "execution_count": 139,
     "metadata": {},
     "output_type": "execute_result"
    }
   ],
   "source": [
    "bgr.isnull().sum()[bgr.isnull().sum()>0]"
   ]
  },
  {
   "cell_type": "code",
   "execution_count": 140,
   "id": "65bc3b8a",
   "metadata": {},
   "outputs": [],
   "source": [
    "#applying median to the balcony and bath column"
   ]
  },
  {
   "cell_type": "code",
   "execution_count": 141,
   "id": "8ca957c5",
   "metadata": {},
   "outputs": [
    {
     "data": {
      "text/plain": [
       "1.0"
      ]
     },
     "execution_count": 141,
     "metadata": {},
     "output_type": "execute_result"
    }
   ],
   "source": [
    "bgr[\"balcony\"].median()"
   ]
  },
  {
   "cell_type": "code",
   "execution_count": 142,
   "id": "ae1714ec",
   "metadata": {},
   "outputs": [],
   "source": [
    "bgr[\"bath\"].fillna(bgr[\"bath\"].median(),inplace=True)\n",
    "bgr[\"balcony\"].fillna(bgr[\"balcony\"].median(),inplace=True)"
   ]
  },
  {
   "cell_type": "code",
   "execution_count": 143,
   "id": "7d370e61",
   "metadata": {},
   "outputs": [
    {
     "data": {
      "text/plain": [
       "location     1\n",
       "size        11\n",
       "dtype: int64"
      ]
     },
     "execution_count": 143,
     "metadata": {},
     "output_type": "execute_result"
    }
   ],
   "source": [
    "bgr.isnull().sum()[bgr.isnull().sum()>0]"
   ]
  },
  {
   "cell_type": "code",
   "execution_count": 144,
   "id": "92859e21",
   "metadata": {},
   "outputs": [
    {
     "data": {
      "text/plain": [
       "Series([], dtype: int64)"
      ]
     },
     "execution_count": 144,
     "metadata": {},
     "output_type": "execute_result"
    }
   ],
   "source": [
    "# Dropping the rows with null values because the dataset is huge as compared to null values.\n",
    "bgr = bgr.dropna()\n",
    "bgr.isnull().sum()[bgr.isnull().sum()>0]"
   ]
  },
  {
   "cell_type": "code",
   "execution_count": 145,
   "id": "d83a85fa",
   "metadata": {},
   "outputs": [
    {
     "data": {
      "text/plain": [
       "(8498, 8)"
      ]
     },
     "execution_count": 145,
     "metadata": {},
     "output_type": "execute_result"
    }
   ],
   "source": [
    "bgr.shape"
   ]
  },
  {
   "cell_type": "code",
   "execution_count": 146,
   "id": "68490302",
   "metadata": {},
   "outputs": [
    {
     "data": {
      "text/html": [
       "<div>\n",
       "<style scoped>\n",
       "    .dataframe tbody tr th:only-of-type {\n",
       "        vertical-align: middle;\n",
       "    }\n",
       "\n",
       "    .dataframe tbody tr th {\n",
       "        vertical-align: top;\n",
       "    }\n",
       "\n",
       "    .dataframe thead th {\n",
       "        text-align: right;\n",
       "    }\n",
       "</style>\n",
       "<table border=\"1\" class=\"dataframe\">\n",
       "  <thead>\n",
       "    <tr style=\"text-align: right;\">\n",
       "      <th></th>\n",
       "      <th>area_type</th>\n",
       "      <th>availability</th>\n",
       "      <th>location</th>\n",
       "      <th>size</th>\n",
       "      <th>bath</th>\n",
       "      <th>balcony</th>\n",
       "      <th>price</th>\n",
       "      <th>new_total_sqft</th>\n",
       "    </tr>\n",
       "  </thead>\n",
       "  <tbody>\n",
       "    <tr>\n",
       "      <th>0</th>\n",
       "      <td>Super built-up  Area</td>\n",
       "      <td>19-Dec</td>\n",
       "      <td>Electronic City Phase II</td>\n",
       "      <td>2 BHK</td>\n",
       "      <td>2.0</td>\n",
       "      <td>1.0</td>\n",
       "      <td>39.07</td>\n",
       "      <td>1056.0</td>\n",
       "    </tr>\n",
       "    <tr>\n",
       "      <th>2</th>\n",
       "      <td>Built-up  Area</td>\n",
       "      <td>Ready To Move</td>\n",
       "      <td>Uttarahalli</td>\n",
       "      <td>3 BHK</td>\n",
       "      <td>2.0</td>\n",
       "      <td>3.0</td>\n",
       "      <td>62.00</td>\n",
       "      <td>1440.0</td>\n",
       "    </tr>\n",
       "    <tr>\n",
       "      <th>4</th>\n",
       "      <td>Super built-up  Area</td>\n",
       "      <td>Ready To Move</td>\n",
       "      <td>Kothanur</td>\n",
       "      <td>2 BHK</td>\n",
       "      <td>2.0</td>\n",
       "      <td>1.0</td>\n",
       "      <td>51.00</td>\n",
       "      <td>1200.0</td>\n",
       "    </tr>\n",
       "    <tr>\n",
       "      <th>5</th>\n",
       "      <td>Super built-up  Area</td>\n",
       "      <td>Ready To Move</td>\n",
       "      <td>Whitefield</td>\n",
       "      <td>2 BHK</td>\n",
       "      <td>2.0</td>\n",
       "      <td>1.0</td>\n",
       "      <td>38.00</td>\n",
       "      <td>1170.0</td>\n",
       "    </tr>\n",
       "    <tr>\n",
       "      <th>8</th>\n",
       "      <td>Super built-up  Area</td>\n",
       "      <td>Ready To Move</td>\n",
       "      <td>Marathahalli</td>\n",
       "      <td>3 BHK</td>\n",
       "      <td>3.0</td>\n",
       "      <td>1.0</td>\n",
       "      <td>63.25</td>\n",
       "      <td>1310.0</td>\n",
       "    </tr>\n",
       "  </tbody>\n",
       "</table>\n",
       "</div>"
      ],
      "text/plain": [
       "              area_type   availability                  location   size  bath  \\\n",
       "0  Super built-up  Area         19-Dec  Electronic City Phase II  2 BHK   2.0   \n",
       "2        Built-up  Area  Ready To Move               Uttarahalli  3 BHK   2.0   \n",
       "4  Super built-up  Area  Ready To Move                  Kothanur  2 BHK   2.0   \n",
       "5  Super built-up  Area  Ready To Move                Whitefield  2 BHK   2.0   \n",
       "8  Super built-up  Area  Ready To Move              Marathahalli  3 BHK   3.0   \n",
       "\n",
       "   balcony  price  new_total_sqft  \n",
       "0      1.0  39.07          1056.0  \n",
       "2      3.0  62.00          1440.0  \n",
       "4      1.0  51.00          1200.0  \n",
       "5      1.0  38.00          1170.0  \n",
       "8      1.0  63.25          1310.0  "
      ]
     },
     "execution_count": 146,
     "metadata": {},
     "output_type": "execute_result"
    }
   ],
   "source": [
    "def convert_sqft_to_num(x):\n",
    "    if isinstance(x, str):  # Check if x is a string\n",
    "        tokens = x.split('-')\n",
    "        if len(tokens) == 2:\n",
    "            return (float(tokens[0]) + float(tokens[1])) / 2\n",
    "        try:\n",
    "            return float(x)\n",
    "        except ValueError:  # Handle the case where x cannot be converted to float\n",
    "            return None\n",
    "    elif isinstance(x, float):\n",
    "        return x  # If x is already a float, return it\n",
    "    else:\n",
    "        return None  # Handle other types of input (e.g., integers, None)\n",
    "\n",
    "\n",
    "bgr['new_total_sqft'] = bgr.total_sqft.apply(convert_sqft_to_num)\n",
    "bgr = bgr.drop('total_sqft', axis='columns')\n",
    "bgr.head()"
   ]
  },
  {
   "cell_type": "code",
   "execution_count": 147,
   "id": "aa544ae9",
   "metadata": {},
   "outputs": [
    {
     "data": {
      "text/html": [
       "<div>\n",
       "<style scoped>\n",
       "    .dataframe tbody tr th:only-of-type {\n",
       "        vertical-align: middle;\n",
       "    }\n",
       "\n",
       "    .dataframe tbody tr th {\n",
       "        vertical-align: top;\n",
       "    }\n",
       "\n",
       "    .dataframe thead th {\n",
       "        text-align: right;\n",
       "    }\n",
       "</style>\n",
       "<table border=\"1\" class=\"dataframe\">\n",
       "  <thead>\n",
       "    <tr style=\"text-align: right;\">\n",
       "      <th></th>\n",
       "      <th>area_type</th>\n",
       "      <th>availability</th>\n",
       "      <th>location</th>\n",
       "      <th>size</th>\n",
       "      <th>bath</th>\n",
       "      <th>balcony</th>\n",
       "      <th>price</th>\n",
       "      <th>new_total_sqft</th>\n",
       "      <th>price_per_sqft</th>\n",
       "    </tr>\n",
       "  </thead>\n",
       "  <tbody>\n",
       "    <tr>\n",
       "      <th>0</th>\n",
       "      <td>Super built-up  Area</td>\n",
       "      <td>19-Dec</td>\n",
       "      <td>Electronic City Phase II</td>\n",
       "      <td>2 BHK</td>\n",
       "      <td>2.0</td>\n",
       "      <td>1.0</td>\n",
       "      <td>39.07</td>\n",
       "      <td>1056.0</td>\n",
       "      <td>3699.810606</td>\n",
       "    </tr>\n",
       "    <tr>\n",
       "      <th>2</th>\n",
       "      <td>Built-up  Area</td>\n",
       "      <td>Ready To Move</td>\n",
       "      <td>Uttarahalli</td>\n",
       "      <td>3 BHK</td>\n",
       "      <td>2.0</td>\n",
       "      <td>3.0</td>\n",
       "      <td>62.00</td>\n",
       "      <td>1440.0</td>\n",
       "      <td>4305.555556</td>\n",
       "    </tr>\n",
       "    <tr>\n",
       "      <th>4</th>\n",
       "      <td>Super built-up  Area</td>\n",
       "      <td>Ready To Move</td>\n",
       "      <td>Kothanur</td>\n",
       "      <td>2 BHK</td>\n",
       "      <td>2.0</td>\n",
       "      <td>1.0</td>\n",
       "      <td>51.00</td>\n",
       "      <td>1200.0</td>\n",
       "      <td>4250.000000</td>\n",
       "    </tr>\n",
       "    <tr>\n",
       "      <th>5</th>\n",
       "      <td>Super built-up  Area</td>\n",
       "      <td>Ready To Move</td>\n",
       "      <td>Whitefield</td>\n",
       "      <td>2 BHK</td>\n",
       "      <td>2.0</td>\n",
       "      <td>1.0</td>\n",
       "      <td>38.00</td>\n",
       "      <td>1170.0</td>\n",
       "      <td>3247.863248</td>\n",
       "    </tr>\n",
       "    <tr>\n",
       "      <th>8</th>\n",
       "      <td>Super built-up  Area</td>\n",
       "      <td>Ready To Move</td>\n",
       "      <td>Marathahalli</td>\n",
       "      <td>3 BHK</td>\n",
       "      <td>3.0</td>\n",
       "      <td>1.0</td>\n",
       "      <td>63.25</td>\n",
       "      <td>1310.0</td>\n",
       "      <td>4828.244275</td>\n",
       "    </tr>\n",
       "  </tbody>\n",
       "</table>\n",
       "</div>"
      ],
      "text/plain": [
       "              area_type   availability                  location   size  bath  \\\n",
       "0  Super built-up  Area         19-Dec  Electronic City Phase II  2 BHK   2.0   \n",
       "2        Built-up  Area  Ready To Move               Uttarahalli  3 BHK   2.0   \n",
       "4  Super built-up  Area  Ready To Move                  Kothanur  2 BHK   2.0   \n",
       "5  Super built-up  Area  Ready To Move                Whitefield  2 BHK   2.0   \n",
       "8  Super built-up  Area  Ready To Move              Marathahalli  3 BHK   3.0   \n",
       "\n",
       "   balcony  price  new_total_sqft  price_per_sqft  \n",
       "0      1.0  39.07          1056.0     3699.810606  \n",
       "2      3.0  62.00          1440.0     4305.555556  \n",
       "4      1.0  51.00          1200.0     4250.000000  \n",
       "5      1.0  38.00          1170.0     3247.863248  \n",
       "8      1.0  63.25          1310.0     4828.244275  "
      ]
     },
     "execution_count": 147,
     "metadata": {},
     "output_type": "execute_result"
    }
   ],
   "source": [
    "# Adding a new column of price_per_sqft\n",
    "bgr1 = bgr.copy()\n",
    "\n",
    "# In our dataset the price column is in Lakhs\n",
    "bgr1['price_per_sqft'] = (bgr1['price']*100000)/bgr1['new_total_sqft']\n",
    "bgr1.head()"
   ]
  },
  {
   "cell_type": "code",
   "execution_count": 148,
   "id": "b22784c4",
   "metadata": {},
   "outputs": [],
   "source": [
    "#checking non numeric column and converting them into numeric"
   ]
  },
  {
   "cell_type": "code",
   "execution_count": 149,
   "id": "848fd047",
   "metadata": {},
   "outputs": [
    {
     "name": "stdout",
     "output_type": "stream",
     "text": [
      "<class 'pandas.core.frame.DataFrame'>\n",
      "Int64Index: 8498 entries, 0 to 13319\n",
      "Data columns (total 9 columns):\n",
      " #   Column          Non-Null Count  Dtype  \n",
      "---  ------          --------------  -----  \n",
      " 0   area_type       8498 non-null   object \n",
      " 1   availability    8498 non-null   object \n",
      " 2   location        8498 non-null   object \n",
      " 3   size            8498 non-null   object \n",
      " 4   bath            8498 non-null   float64\n",
      " 5   balcony         8498 non-null   float64\n",
      " 6   price           8498 non-null   float64\n",
      " 7   new_total_sqft  8498 non-null   float64\n",
      " 8   price_per_sqft  8498 non-null   float64\n",
      "dtypes: float64(5), object(4)\n",
      "memory usage: 663.9+ KB\n"
     ]
    }
   ],
   "source": [
    "bgr1.info()"
   ]
  },
  {
   "cell_type": "code",
   "execution_count": 150,
   "id": "4d9e2490",
   "metadata": {},
   "outputs": [],
   "source": [
    "location1=bgr1.value_counts(\"location\")"
   ]
  },
  {
   "cell_type": "code",
   "execution_count": 151,
   "id": "2bfdc76a",
   "metadata": {},
   "outputs": [
    {
     "name": "stdout",
     "output_type": "stream",
     "text": [
      "793 952\n"
     ]
    }
   ],
   "source": [
    "# Checking locations with less than 10 values\n",
    "print(len(location1[location1<=10]), len(bgr1.location.unique()))"
   ]
  },
  {
   "cell_type": "code",
   "execution_count": 152,
   "id": "9b38596d",
   "metadata": {},
   "outputs": [
    {
     "data": {
      "text/plain": [
       "160"
      ]
     },
     "execution_count": 152,
     "metadata": {},
     "output_type": "execute_result"
    }
   ],
   "source": [
    "# Labelling the locations with less than or equal to 10 occurences to 'other'\n",
    "locations_less_than_10 = location1[location1<=10]\n",
    "\n",
    "bgr1.location = bgr1.location.apply(lambda x: 'other' if x in locations_less_than_10 else x)\n",
    "len(bgr1.location.unique())"
   ]
  },
  {
   "cell_type": "code",
   "execution_count": 153,
   "id": "4b38ff32",
   "metadata": {},
   "outputs": [
    {
     "data": {
      "text/plain": [
       "array(['Electronic City Phase II', 'Uttarahalli', 'Kothanur',\n",
       "       'Whitefield', 'Marathahalli', '7th Phase JP Nagar', 'Gottigere',\n",
       "       'Mysore Road', 'Bisuvanahalli', 'Raja Rajeshwari Nagar', 'other',\n",
       "       'Kengeri', 'Electronic City', 'Ramagondanahalli', 'Kanakpura Road',\n",
       "       'Electronics City Phase 1', 'Chikkalasandra', 'Sarjapur  Road',\n",
       "       'Yelahanka', 'Doddathoguru', 'Lakshminarayana Pura', 'Begur Road',\n",
       "       'Varthur', 'Gunjur', 'Haralur Road', 'Kothannur',\n",
       "       'Kalena Agrahara', 'Kaval Byrasandra', 'Garudachar Palya',\n",
       "       'Dasanapura', 'Kasavanhalli', 'Sanjay nagar', 'Thanisandra',\n",
       "       'Sarjapura - Attibele Road', 'Chandapura', 'Devanahalli',\n",
       "       'Malleshwaram', 'Hennur Road', 'Kadugodi', 'Hormavu', 'Sarjapur',\n",
       "       'Kudlu Gate', '8th Phase JP Nagar', 'Bommasandra Industrial Area',\n",
       "       'Anandapura', 'Kengeri Satellite Town', ' Devarachikkanahalli',\n",
       "       'Hulimavu', 'Hosa Road', 'Attibele', 'CV Raman Nagar',\n",
       "       'Kumaraswami Layout', 'KR Puram', 'HSR Layout', 'Kogilu',\n",
       "       'Panathur', 'Kammasandra', 'Dasarahalli', 'Dommasandra',\n",
       "       'Budigere', 'Vijayanagar', 'Balagere', 'Jigani',\n",
       "       'Gollarapalya Hosahalli', 'Kaggadasapura', '9th Phase JP Nagar',\n",
       "       'Jakkur', 'Singasandra', 'AECS Layout', 'Begur', 'Malleshpalya',\n",
       "       'Munnekollal', 'Kaggalipura', '6th Phase JP Nagar',\n",
       "       'Somasundara Palya', 'Bommasandra', 'Harlur', 'Akshaya Nagar',\n",
       "       'Magadi Road', 'Bannerghatta Road', 'Hennur', 'Bellandur',\n",
       "       '5th Phase JP Nagar', 'Jalahalli', 'Mahadevpura', 'Anekal',\n",
       "       'Sompura', 'Dodda Nekkundi', 'Battarahalli', 'Billekahalli',\n",
       "       'TC Palaya', 'Ambalipura', 'Hoodi', 'Hosur Road', 'Brookefield',\n",
       "       'Yelenahalli', 'Vittasandra', 'Padmanabhanagar', 'Amruthahalli',\n",
       "       'Subramanyapura', 'Kenchenahalli', 'Kereguddadahalli',\n",
       "       'Vidyaranyapura', 'JP Nagar', 'Kambipura', 'Banashankari',\n",
       "       'Kanakapura', 'R.T. Nagar', 'Vasanthapura', 'Kundalahalli',\n",
       "       'Hegde Nagar', 'GM Palaya', 'Jalahalli East', 'Horamavu Agara',\n",
       "       'Kodichikkanahalli', 'Varthur Road', 'Abbigere', 'Hebbal',\n",
       "       'Gubbalala', 'Parappana Agrahara', 'Kudlu', 'Yeshwanthpur',\n",
       "       'Kathriguppe', 'Yelahanka New Town', 'Kalyan nagar',\n",
       "       'Yelachenahalli', 'Mallasandra', 'Talaghattapura',\n",
       "       'Ramamurthy Nagar', 'Horamavu Banaswadi', 'NGR Layout',\n",
       "       'Seegehalli', 'Rachenahalli', 'Margondanahalli', 'Sahakara Nagar',\n",
       "       'Babusapalaya', 'Old Madras Road', 'Ananth Nagar', 'Channasandra',\n",
       "       'Choodasandra', 'Kaikondrahalli', 'Hosakerehalli',\n",
       "       'Doddakallasandra', 'Rayasandra', 'Pai Layout',\n",
       "       'Banashankari Stage V', 'Sonnenahalli', 'Nagarbhavi',\n",
       "       'Bommanahalli', 'Thubarahalli', '2nd Phase Judicial Layout',\n",
       "       'Poorna Pragna Layout', 'Bhoganhalli', 'Tumkur Road', 'Banaswadi',\n",
       "       'Sector 2 HSR Layout', 'Hoskote', 'BTM 2nd Stage', 'Anjanapura',\n",
       "       'Bharathi Nagar'], dtype=object)"
      ]
     },
     "execution_count": 153,
     "metadata": {},
     "output_type": "execute_result"
    }
   ],
   "source": [
    "bgr1.location.unique()"
   ]
  },
  {
   "cell_type": "code",
   "execution_count": 154,
   "id": "8222f637",
   "metadata": {},
   "outputs": [
    {
     "data": {
      "text/plain": [
       "availability\n",
       "Ready To Move    6645\n",
       "18-May            215\n",
       "18-Apr            201\n",
       "18-Dec            194\n",
       "18-Aug            154\n",
       "                 ... \n",
       "16-Dec              1\n",
       "16-Sep              1\n",
       "16-Oct              1\n",
       "16-Nov              1\n",
       "14-Jul              1\n",
       "Length: 71, dtype: int64"
      ]
     },
     "execution_count": 154,
     "metadata": {},
     "output_type": "execute_result"
    }
   ],
   "source": [
    "# Checking the unique values in 'availability column'\n",
    "availability1=bgr1.value_counts(\"availability\")\n",
    "availability1"
   ]
  },
  {
   "cell_type": "code",
   "execution_count": 155,
   "id": "1c350503",
   "metadata": {},
   "outputs": [
    {
     "data": {
      "text/plain": [
       "2"
      ]
     },
     "execution_count": 155,
     "metadata": {},
     "output_type": "execute_result"
    }
   ],
   "source": [
    "# Labelling the dates into Not Ready\n",
    "\n",
    "dates_not_ready = availability1[availability1<6645]\n",
    "bgr1.availability = bgr1.availability.apply(lambda x: 'Not Ready' if x in dates_not_ready else x)\n",
    "\n",
    "len(bgr1.availability.unique())"
   ]
  },
  {
   "cell_type": "code",
   "execution_count": 156,
   "id": "61af9ae0",
   "metadata": {},
   "outputs": [
    {
     "data": {
      "text/html": [
       "<div>\n",
       "<style scoped>\n",
       "    .dataframe tbody tr th:only-of-type {\n",
       "        vertical-align: middle;\n",
       "    }\n",
       "\n",
       "    .dataframe tbody tr th {\n",
       "        vertical-align: top;\n",
       "    }\n",
       "\n",
       "    .dataframe thead th {\n",
       "        text-align: right;\n",
       "    }\n",
       "</style>\n",
       "<table border=\"1\" class=\"dataframe\">\n",
       "  <thead>\n",
       "    <tr style=\"text-align: right;\">\n",
       "      <th></th>\n",
       "      <th>area_type</th>\n",
       "      <th>availability</th>\n",
       "      <th>location</th>\n",
       "      <th>size</th>\n",
       "      <th>bath</th>\n",
       "      <th>balcony</th>\n",
       "      <th>price</th>\n",
       "      <th>new_total_sqft</th>\n",
       "      <th>price_per_sqft</th>\n",
       "    </tr>\n",
       "  </thead>\n",
       "  <tbody>\n",
       "    <tr>\n",
       "      <th>0</th>\n",
       "      <td>Super built-up  Area</td>\n",
       "      <td>Not Ready</td>\n",
       "      <td>Electronic City Phase II</td>\n",
       "      <td>2 BHK</td>\n",
       "      <td>2.0</td>\n",
       "      <td>1.0</td>\n",
       "      <td>39.07</td>\n",
       "      <td>1056.0</td>\n",
       "      <td>3699.810606</td>\n",
       "    </tr>\n",
       "    <tr>\n",
       "      <th>2</th>\n",
       "      <td>Built-up  Area</td>\n",
       "      <td>Ready To Move</td>\n",
       "      <td>Uttarahalli</td>\n",
       "      <td>3 BHK</td>\n",
       "      <td>2.0</td>\n",
       "      <td>3.0</td>\n",
       "      <td>62.00</td>\n",
       "      <td>1440.0</td>\n",
       "      <td>4305.555556</td>\n",
       "    </tr>\n",
       "    <tr>\n",
       "      <th>4</th>\n",
       "      <td>Super built-up  Area</td>\n",
       "      <td>Ready To Move</td>\n",
       "      <td>Kothanur</td>\n",
       "      <td>2 BHK</td>\n",
       "      <td>2.0</td>\n",
       "      <td>1.0</td>\n",
       "      <td>51.00</td>\n",
       "      <td>1200.0</td>\n",
       "      <td>4250.000000</td>\n",
       "    </tr>\n",
       "    <tr>\n",
       "      <th>5</th>\n",
       "      <td>Super built-up  Area</td>\n",
       "      <td>Ready To Move</td>\n",
       "      <td>Whitefield</td>\n",
       "      <td>2 BHK</td>\n",
       "      <td>2.0</td>\n",
       "      <td>1.0</td>\n",
       "      <td>38.00</td>\n",
       "      <td>1170.0</td>\n",
       "      <td>3247.863248</td>\n",
       "    </tr>\n",
       "    <tr>\n",
       "      <th>8</th>\n",
       "      <td>Super built-up  Area</td>\n",
       "      <td>Ready To Move</td>\n",
       "      <td>Marathahalli</td>\n",
       "      <td>3 BHK</td>\n",
       "      <td>3.0</td>\n",
       "      <td>1.0</td>\n",
       "      <td>63.25</td>\n",
       "      <td>1310.0</td>\n",
       "      <td>4828.244275</td>\n",
       "    </tr>\n",
       "  </tbody>\n",
       "</table>\n",
       "</div>"
      ],
      "text/plain": [
       "              area_type   availability                  location   size  bath  \\\n",
       "0  Super built-up  Area      Not Ready  Electronic City Phase II  2 BHK   2.0   \n",
       "2        Built-up  Area  Ready To Move               Uttarahalli  3 BHK   2.0   \n",
       "4  Super built-up  Area  Ready To Move                  Kothanur  2 BHK   2.0   \n",
       "5  Super built-up  Area  Ready To Move                Whitefield  2 BHK   2.0   \n",
       "8  Super built-up  Area  Ready To Move              Marathahalli  3 BHK   3.0   \n",
       "\n",
       "   balcony  price  new_total_sqft  price_per_sqft  \n",
       "0      1.0  39.07          1056.0     3699.810606  \n",
       "2      3.0  62.00          1440.0     4305.555556  \n",
       "4      1.0  51.00          1200.0     4250.000000  \n",
       "5      1.0  38.00          1170.0     3247.863248  \n",
       "8      1.0  63.25          1310.0     4828.244275  "
      ]
     },
     "execution_count": 156,
     "metadata": {},
     "output_type": "execute_result"
    }
   ],
   "source": [
    "bgr1.head()"
   ]
  },
  {
   "cell_type": "code",
   "execution_count": 157,
   "id": "a13fdb9a",
   "metadata": {},
   "outputs": [
    {
     "data": {
      "text/plain": [
       "availability\n",
       "Ready To Move    6645\n",
       "Not Ready        1853\n",
       "dtype: int64"
      ]
     },
     "execution_count": 157,
     "metadata": {},
     "output_type": "execute_result"
    }
   ],
   "source": [
    "# Checking the unique values in 'area_type' column\n",
    "bgr1.value_counts(\"availability\")\n",
    "\n",
    "# Since the column has only few unique values, we don't perform any operation"
   ]
  },
  {
   "cell_type": "code",
   "execution_count": 158,
   "id": "463eed75",
   "metadata": {},
   "outputs": [
    {
     "data": {
      "text/plain": [
       "array(['Super built-up  Area', 'Built-up  Area', 'Plot  Area',\n",
       "       'Carpet  Area'], dtype=object)"
      ]
     },
     "execution_count": 158,
     "metadata": {},
     "output_type": "execute_result"
    }
   ],
   "source": [
    "bgr1[\"area_type\"].unique()"
   ]
  },
  {
   "cell_type": "code",
   "execution_count": 159,
   "id": "f69723ea",
   "metadata": {},
   "outputs": [],
   "source": [
    "from sklearn.preprocessing import LabelEncoder #required import\n",
    "le= LabelEncoder()"
   ]
  },
  {
   "cell_type": "code",
   "execution_count": 160,
   "id": "ca286cda",
   "metadata": {},
   "outputs": [],
   "source": [
    "dummy_cols = pd.get_dummies(bgr1.location)\n",
    "bgr1 = pd.concat([bgr1,dummy_cols], axis='columns')"
   ]
  },
  {
   "cell_type": "code",
   "execution_count": 161,
   "id": "cc9771c1",
   "metadata": {},
   "outputs": [],
   "source": [
    "#bgr1.location = le.fit_transform(bgr1.location)\n",
    "bgr1.availability.replace({'Not Ready':0, 'Ready To Move':1},inplace=True)\n",
    "bgr1.area_type.replace({'Super built-up  Area':3, 'Plot  Area':4, 'Built-up  Area':2,\n",
    "       'Carpet  Area':1},inplace=True)\n",
    "bgr1[\"size\"].replace({'2 BHK':2, '3 BHK':3, '1 BHK':1, '1 RK':0, '1 Bedroom':1, '8 Bedroom':8,\n",
    "       '3 Bedroom':3, '2 Bedroom':2, '5 Bedroom':5, '4 BHK':4, '4 Bedroom':4,\n",
    "       '6 Bedroom':6, '7 Bedroom':7, '10 Bedroom':10, '9 Bedroom':9, '5 BHK':5,\n",
    "       '6 BHK':6, '7 BHK':7},inplace=True)"
   ]
  },
  {
   "cell_type": "code",
   "execution_count": 162,
   "id": "1e4bfc5d",
   "metadata": {},
   "outputs": [],
   "source": [
    "bgr1=bgr1.drop([\"location\"],axis=1)"
   ]
  },
  {
   "cell_type": "code",
   "execution_count": 163,
   "id": "06feda08",
   "metadata": {},
   "outputs": [
    {
     "name": "stdout",
     "output_type": "stream",
     "text": [
      "<class 'pandas.core.frame.DataFrame'>\n",
      "Int64Index: 8498 entries, 0 to 13319\n",
      "Columns: 168 entries, area_type to other\n",
      "dtypes: float64(5), int64(3), uint8(160)\n",
      "memory usage: 1.9 MB\n"
     ]
    }
   ],
   "source": [
    "bgr1.info()"
   ]
  },
  {
   "cell_type": "code",
   "execution_count": 164,
   "id": "0432f2c7",
   "metadata": {},
   "outputs": [
    {
     "data": {
      "text/html": [
       "<div>\n",
       "<style scoped>\n",
       "    .dataframe tbody tr th:only-of-type {\n",
       "        vertical-align: middle;\n",
       "    }\n",
       "\n",
       "    .dataframe tbody tr th {\n",
       "        vertical-align: top;\n",
       "    }\n",
       "\n",
       "    .dataframe thead th {\n",
       "        text-align: right;\n",
       "    }\n",
       "</style>\n",
       "<table border=\"1\" class=\"dataframe\">\n",
       "  <thead>\n",
       "    <tr style=\"text-align: right;\">\n",
       "      <th></th>\n",
       "      <th>area_type</th>\n",
       "      <th>availability</th>\n",
       "      <th>size</th>\n",
       "      <th>bath</th>\n",
       "      <th>balcony</th>\n",
       "      <th>price</th>\n",
       "      <th>new_total_sqft</th>\n",
       "      <th>price_per_sqft</th>\n",
       "      <th>Devarachikkanahalli</th>\n",
       "      <th>2nd Phase Judicial Layout</th>\n",
       "      <th>...</th>\n",
       "      <th>Vidyaranyapura</th>\n",
       "      <th>Vijayanagar</th>\n",
       "      <th>Vittasandra</th>\n",
       "      <th>Whitefield</th>\n",
       "      <th>Yelachenahalli</th>\n",
       "      <th>Yelahanka</th>\n",
       "      <th>Yelahanka New Town</th>\n",
       "      <th>Yelenahalli</th>\n",
       "      <th>Yeshwanthpur</th>\n",
       "      <th>other</th>\n",
       "    </tr>\n",
       "  </thead>\n",
       "  <tbody>\n",
       "    <tr>\n",
       "      <th>0</th>\n",
       "      <td>3</td>\n",
       "      <td>0</td>\n",
       "      <td>2</td>\n",
       "      <td>2.0</td>\n",
       "      <td>1.0</td>\n",
       "      <td>39.07</td>\n",
       "      <td>1056.0</td>\n",
       "      <td>3699.810606</td>\n",
       "      <td>0</td>\n",
       "      <td>0</td>\n",
       "      <td>...</td>\n",
       "      <td>0</td>\n",
       "      <td>0</td>\n",
       "      <td>0</td>\n",
       "      <td>0</td>\n",
       "      <td>0</td>\n",
       "      <td>0</td>\n",
       "      <td>0</td>\n",
       "      <td>0</td>\n",
       "      <td>0</td>\n",
       "      <td>0</td>\n",
       "    </tr>\n",
       "    <tr>\n",
       "      <th>2</th>\n",
       "      <td>2</td>\n",
       "      <td>1</td>\n",
       "      <td>3</td>\n",
       "      <td>2.0</td>\n",
       "      <td>3.0</td>\n",
       "      <td>62.00</td>\n",
       "      <td>1440.0</td>\n",
       "      <td>4305.555556</td>\n",
       "      <td>0</td>\n",
       "      <td>0</td>\n",
       "      <td>...</td>\n",
       "      <td>0</td>\n",
       "      <td>0</td>\n",
       "      <td>0</td>\n",
       "      <td>0</td>\n",
       "      <td>0</td>\n",
       "      <td>0</td>\n",
       "      <td>0</td>\n",
       "      <td>0</td>\n",
       "      <td>0</td>\n",
       "      <td>0</td>\n",
       "    </tr>\n",
       "    <tr>\n",
       "      <th>4</th>\n",
       "      <td>3</td>\n",
       "      <td>1</td>\n",
       "      <td>2</td>\n",
       "      <td>2.0</td>\n",
       "      <td>1.0</td>\n",
       "      <td>51.00</td>\n",
       "      <td>1200.0</td>\n",
       "      <td>4250.000000</td>\n",
       "      <td>0</td>\n",
       "      <td>0</td>\n",
       "      <td>...</td>\n",
       "      <td>0</td>\n",
       "      <td>0</td>\n",
       "      <td>0</td>\n",
       "      <td>0</td>\n",
       "      <td>0</td>\n",
       "      <td>0</td>\n",
       "      <td>0</td>\n",
       "      <td>0</td>\n",
       "      <td>0</td>\n",
       "      <td>0</td>\n",
       "    </tr>\n",
       "    <tr>\n",
       "      <th>5</th>\n",
       "      <td>3</td>\n",
       "      <td>1</td>\n",
       "      <td>2</td>\n",
       "      <td>2.0</td>\n",
       "      <td>1.0</td>\n",
       "      <td>38.00</td>\n",
       "      <td>1170.0</td>\n",
       "      <td>3247.863248</td>\n",
       "      <td>0</td>\n",
       "      <td>0</td>\n",
       "      <td>...</td>\n",
       "      <td>0</td>\n",
       "      <td>0</td>\n",
       "      <td>0</td>\n",
       "      <td>1</td>\n",
       "      <td>0</td>\n",
       "      <td>0</td>\n",
       "      <td>0</td>\n",
       "      <td>0</td>\n",
       "      <td>0</td>\n",
       "      <td>0</td>\n",
       "    </tr>\n",
       "    <tr>\n",
       "      <th>8</th>\n",
       "      <td>3</td>\n",
       "      <td>1</td>\n",
       "      <td>3</td>\n",
       "      <td>3.0</td>\n",
       "      <td>1.0</td>\n",
       "      <td>63.25</td>\n",
       "      <td>1310.0</td>\n",
       "      <td>4828.244275</td>\n",
       "      <td>0</td>\n",
       "      <td>0</td>\n",
       "      <td>...</td>\n",
       "      <td>0</td>\n",
       "      <td>0</td>\n",
       "      <td>0</td>\n",
       "      <td>0</td>\n",
       "      <td>0</td>\n",
       "      <td>0</td>\n",
       "      <td>0</td>\n",
       "      <td>0</td>\n",
       "      <td>0</td>\n",
       "      <td>0</td>\n",
       "    </tr>\n",
       "  </tbody>\n",
       "</table>\n",
       "<p>5 rows × 168 columns</p>\n",
       "</div>"
      ],
      "text/plain": [
       "   area_type  availability  size  bath  balcony  price  new_total_sqft  \\\n",
       "0          3             0     2   2.0      1.0  39.07          1056.0   \n",
       "2          2             1     3   2.0      3.0  62.00          1440.0   \n",
       "4          3             1     2   2.0      1.0  51.00          1200.0   \n",
       "5          3             1     2   2.0      1.0  38.00          1170.0   \n",
       "8          3             1     3   3.0      1.0  63.25          1310.0   \n",
       "\n",
       "   price_per_sqft   Devarachikkanahalli  2nd Phase Judicial Layout  ...  \\\n",
       "0     3699.810606                     0                          0  ...   \n",
       "2     4305.555556                     0                          0  ...   \n",
       "4     4250.000000                     0                          0  ...   \n",
       "5     3247.863248                     0                          0  ...   \n",
       "8     4828.244275                     0                          0  ...   \n",
       "\n",
       "   Vidyaranyapura  Vijayanagar  Vittasandra  Whitefield  Yelachenahalli  \\\n",
       "0               0            0            0           0               0   \n",
       "2               0            0            0           0               0   \n",
       "4               0            0            0           0               0   \n",
       "5               0            0            0           1               0   \n",
       "8               0            0            0           0               0   \n",
       "\n",
       "   Yelahanka  Yelahanka New Town  Yelenahalli  Yeshwanthpur  other  \n",
       "0          0                   0            0             0      0  \n",
       "2          0                   0            0             0      0  \n",
       "4          0                   0            0             0      0  \n",
       "5          0                   0            0             0      0  \n",
       "8          0                   0            0             0      0  \n",
       "\n",
       "[5 rows x 168 columns]"
      ]
     },
     "execution_count": 164,
     "metadata": {},
     "output_type": "execute_result"
    }
   ],
   "source": [
    "bgr1.head()"
   ]
  },
  {
   "cell_type": "code",
   "execution_count": 165,
   "id": "8837da0d",
   "metadata": {},
   "outputs": [
    {
     "data": {
      "text/plain": [
       "(8498, 168)"
      ]
     },
     "execution_count": 165,
     "metadata": {},
     "output_type": "execute_result"
    }
   ],
   "source": [
    "bgr1.shape"
   ]
  },
  {
   "cell_type": "code",
   "execution_count": 166,
   "id": "2451aea2",
   "metadata": {},
   "outputs": [],
   "source": [
    "bgr1=bgr1.drop([\"price_per_sqft\"],axis=1)"
   ]
  },
  {
   "cell_type": "code",
   "execution_count": 167,
   "id": "13b3c1d7",
   "metadata": {},
   "outputs": [],
   "source": [
    "bgr1['Prices'] = bgr1[\"price\"]\n",
    "bgr1=bgr1.drop([\"price\"],axis=1)"
   ]
  },
  {
   "cell_type": "code",
   "execution_count": 168,
   "id": "b4f0a4f0",
   "metadata": {},
   "outputs": [
    {
     "data": {
      "text/html": [
       "<div>\n",
       "<style scoped>\n",
       "    .dataframe tbody tr th:only-of-type {\n",
       "        vertical-align: middle;\n",
       "    }\n",
       "\n",
       "    .dataframe tbody tr th {\n",
       "        vertical-align: top;\n",
       "    }\n",
       "\n",
       "    .dataframe thead th {\n",
       "        text-align: right;\n",
       "    }\n",
       "</style>\n",
       "<table border=\"1\" class=\"dataframe\">\n",
       "  <thead>\n",
       "    <tr style=\"text-align: right;\">\n",
       "      <th></th>\n",
       "      <th>area_type</th>\n",
       "      <th>availability</th>\n",
       "      <th>size</th>\n",
       "      <th>bath</th>\n",
       "      <th>balcony</th>\n",
       "      <th>new_total_sqft</th>\n",
       "      <th>Devarachikkanahalli</th>\n",
       "      <th>2nd Phase Judicial Layout</th>\n",
       "      <th>5th Phase JP Nagar</th>\n",
       "      <th>6th Phase JP Nagar</th>\n",
       "      <th>...</th>\n",
       "      <th>Vijayanagar</th>\n",
       "      <th>Vittasandra</th>\n",
       "      <th>Whitefield</th>\n",
       "      <th>Yelachenahalli</th>\n",
       "      <th>Yelahanka</th>\n",
       "      <th>Yelahanka New Town</th>\n",
       "      <th>Yelenahalli</th>\n",
       "      <th>Yeshwanthpur</th>\n",
       "      <th>other</th>\n",
       "      <th>Prices</th>\n",
       "    </tr>\n",
       "  </thead>\n",
       "  <tbody>\n",
       "    <tr>\n",
       "      <th>0</th>\n",
       "      <td>3</td>\n",
       "      <td>0</td>\n",
       "      <td>2</td>\n",
       "      <td>2.0</td>\n",
       "      <td>1.0</td>\n",
       "      <td>1056.0</td>\n",
       "      <td>0</td>\n",
       "      <td>0</td>\n",
       "      <td>0</td>\n",
       "      <td>0</td>\n",
       "      <td>...</td>\n",
       "      <td>0</td>\n",
       "      <td>0</td>\n",
       "      <td>0</td>\n",
       "      <td>0</td>\n",
       "      <td>0</td>\n",
       "      <td>0</td>\n",
       "      <td>0</td>\n",
       "      <td>0</td>\n",
       "      <td>0</td>\n",
       "      <td>39.07</td>\n",
       "    </tr>\n",
       "    <tr>\n",
       "      <th>2</th>\n",
       "      <td>2</td>\n",
       "      <td>1</td>\n",
       "      <td>3</td>\n",
       "      <td>2.0</td>\n",
       "      <td>3.0</td>\n",
       "      <td>1440.0</td>\n",
       "      <td>0</td>\n",
       "      <td>0</td>\n",
       "      <td>0</td>\n",
       "      <td>0</td>\n",
       "      <td>...</td>\n",
       "      <td>0</td>\n",
       "      <td>0</td>\n",
       "      <td>0</td>\n",
       "      <td>0</td>\n",
       "      <td>0</td>\n",
       "      <td>0</td>\n",
       "      <td>0</td>\n",
       "      <td>0</td>\n",
       "      <td>0</td>\n",
       "      <td>62.00</td>\n",
       "    </tr>\n",
       "    <tr>\n",
       "      <th>4</th>\n",
       "      <td>3</td>\n",
       "      <td>1</td>\n",
       "      <td>2</td>\n",
       "      <td>2.0</td>\n",
       "      <td>1.0</td>\n",
       "      <td>1200.0</td>\n",
       "      <td>0</td>\n",
       "      <td>0</td>\n",
       "      <td>0</td>\n",
       "      <td>0</td>\n",
       "      <td>...</td>\n",
       "      <td>0</td>\n",
       "      <td>0</td>\n",
       "      <td>0</td>\n",
       "      <td>0</td>\n",
       "      <td>0</td>\n",
       "      <td>0</td>\n",
       "      <td>0</td>\n",
       "      <td>0</td>\n",
       "      <td>0</td>\n",
       "      <td>51.00</td>\n",
       "    </tr>\n",
       "    <tr>\n",
       "      <th>5</th>\n",
       "      <td>3</td>\n",
       "      <td>1</td>\n",
       "      <td>2</td>\n",
       "      <td>2.0</td>\n",
       "      <td>1.0</td>\n",
       "      <td>1170.0</td>\n",
       "      <td>0</td>\n",
       "      <td>0</td>\n",
       "      <td>0</td>\n",
       "      <td>0</td>\n",
       "      <td>...</td>\n",
       "      <td>0</td>\n",
       "      <td>0</td>\n",
       "      <td>1</td>\n",
       "      <td>0</td>\n",
       "      <td>0</td>\n",
       "      <td>0</td>\n",
       "      <td>0</td>\n",
       "      <td>0</td>\n",
       "      <td>0</td>\n",
       "      <td>38.00</td>\n",
       "    </tr>\n",
       "    <tr>\n",
       "      <th>8</th>\n",
       "      <td>3</td>\n",
       "      <td>1</td>\n",
       "      <td>3</td>\n",
       "      <td>3.0</td>\n",
       "      <td>1.0</td>\n",
       "      <td>1310.0</td>\n",
       "      <td>0</td>\n",
       "      <td>0</td>\n",
       "      <td>0</td>\n",
       "      <td>0</td>\n",
       "      <td>...</td>\n",
       "      <td>0</td>\n",
       "      <td>0</td>\n",
       "      <td>0</td>\n",
       "      <td>0</td>\n",
       "      <td>0</td>\n",
       "      <td>0</td>\n",
       "      <td>0</td>\n",
       "      <td>0</td>\n",
       "      <td>0</td>\n",
       "      <td>63.25</td>\n",
       "    </tr>\n",
       "  </tbody>\n",
       "</table>\n",
       "<p>5 rows × 167 columns</p>\n",
       "</div>"
      ],
      "text/plain": [
       "   area_type  availability  size  bath  balcony  new_total_sqft  \\\n",
       "0          3             0     2   2.0      1.0          1056.0   \n",
       "2          2             1     3   2.0      3.0          1440.0   \n",
       "4          3             1     2   2.0      1.0          1200.0   \n",
       "5          3             1     2   2.0      1.0          1170.0   \n",
       "8          3             1     3   3.0      1.0          1310.0   \n",
       "\n",
       "    Devarachikkanahalli  2nd Phase Judicial Layout  5th Phase JP Nagar  \\\n",
       "0                     0                          0                   0   \n",
       "2                     0                          0                   0   \n",
       "4                     0                          0                   0   \n",
       "5                     0                          0                   0   \n",
       "8                     0                          0                   0   \n",
       "\n",
       "   6th Phase JP Nagar  ...  Vijayanagar  Vittasandra  Whitefield  \\\n",
       "0                   0  ...            0            0           0   \n",
       "2                   0  ...            0            0           0   \n",
       "4                   0  ...            0            0           0   \n",
       "5                   0  ...            0            0           1   \n",
       "8                   0  ...            0            0           0   \n",
       "\n",
       "   Yelachenahalli  Yelahanka  Yelahanka New Town  Yelenahalli  Yeshwanthpur  \\\n",
       "0               0          0                   0            0             0   \n",
       "2               0          0                   0            0             0   \n",
       "4               0          0                   0            0             0   \n",
       "5               0          0                   0            0             0   \n",
       "8               0          0                   0            0             0   \n",
       "\n",
       "   other  Prices  \n",
       "0      0   39.07  \n",
       "2      0   62.00  \n",
       "4      0   51.00  \n",
       "5      0   38.00  \n",
       "8      0   63.25  \n",
       "\n",
       "[5 rows x 167 columns]"
      ]
     },
     "execution_count": 168,
     "metadata": {},
     "output_type": "execute_result"
    }
   ],
   "source": [
    "bgr1.head()"
   ]
  },
  {
   "cell_type": "code",
   "execution_count": 169,
   "id": "0a766009",
   "metadata": {},
   "outputs": [
    {
     "name": "stdout",
     "output_type": "stream",
     "text": [
      "<class 'pandas.core.frame.DataFrame'>\n",
      "Int64Index: 8498 entries, 0 to 13319\n",
      "Columns: 167 entries, area_type to Prices\n",
      "dtypes: float64(4), int64(3), uint8(160)\n",
      "memory usage: 1.8 MB\n"
     ]
    }
   ],
   "source": [
    "bgr1.info()"
   ]
  },
  {
   "cell_type": "code",
   "execution_count": 170,
   "id": "e4aa4817",
   "metadata": {},
   "outputs": [
    {
     "data": {
      "text/plain": [
       "(8498, 167)"
      ]
     },
     "execution_count": 170,
     "metadata": {},
     "output_type": "execute_result"
    }
   ],
   "source": [
    "bgr1.shape"
   ]
  },
  {
   "cell_type": "code",
   "execution_count": 171,
   "id": "f64061bd",
   "metadata": {},
   "outputs": [],
   "source": [
    "#bgr1=df1"
   ]
  },
  {
   "cell_type": "code",
   "execution_count": 172,
   "id": "25f9a143",
   "metadata": {},
   "outputs": [],
   "source": [
    "from sklearn.model_selection import train_test_split"
   ]
  },
  {
   "cell_type": "code",
   "execution_count": 173,
   "id": "2f2baf45",
   "metadata": {},
   "outputs": [],
   "source": [
    "train_bgr1,test_bgr1=train_test_split(bgr1,test_size=.25)"
   ]
  },
  {
   "cell_type": "code",
   "execution_count": 174,
   "id": "3641801d",
   "metadata": {},
   "outputs": [],
   "source": [
    "bgr1_train_x=train_bgr1.iloc[:,0:-1]\n",
    "bgr1_train_y=train_bgr1.iloc[:,-1]\n",
    "\n",
    "bgr1_test_x=test_bgr1.iloc[:,0:-1]\n",
    "bgr1_test_y=test_bgr1.iloc[:,-1]"
   ]
  },
  {
   "cell_type": "code",
   "execution_count": 175,
   "id": "9c90f9cd",
   "metadata": {},
   "outputs": [],
   "source": [
    "from sklearn.linear_model import LinearRegression \n",
    "linreg=LinearRegression()"
   ]
  },
  {
   "cell_type": "code",
   "execution_count": 176,
   "id": "39da79c3",
   "metadata": {},
   "outputs": [
    {
     "data": {
      "text/html": [
       "<style>#sk-container-id-2 {color: black;}#sk-container-id-2 pre{padding: 0;}#sk-container-id-2 div.sk-toggleable {background-color: white;}#sk-container-id-2 label.sk-toggleable__label {cursor: pointer;display: block;width: 100%;margin-bottom: 0;padding: 0.3em;box-sizing: border-box;text-align: center;}#sk-container-id-2 label.sk-toggleable__label-arrow:before {content: \"▸\";float: left;margin-right: 0.25em;color: #696969;}#sk-container-id-2 label.sk-toggleable__label-arrow:hover:before {color: black;}#sk-container-id-2 div.sk-estimator:hover label.sk-toggleable__label-arrow:before {color: black;}#sk-container-id-2 div.sk-toggleable__content {max-height: 0;max-width: 0;overflow: hidden;text-align: left;background-color: #f0f8ff;}#sk-container-id-2 div.sk-toggleable__content pre {margin: 0.2em;color: black;border-radius: 0.25em;background-color: #f0f8ff;}#sk-container-id-2 input.sk-toggleable__control:checked~div.sk-toggleable__content {max-height: 200px;max-width: 100%;overflow: auto;}#sk-container-id-2 input.sk-toggleable__control:checked~label.sk-toggleable__label-arrow:before {content: \"▾\";}#sk-container-id-2 div.sk-estimator input.sk-toggleable__control:checked~label.sk-toggleable__label {background-color: #d4ebff;}#sk-container-id-2 div.sk-label input.sk-toggleable__control:checked~label.sk-toggleable__label {background-color: #d4ebff;}#sk-container-id-2 input.sk-hidden--visually {border: 0;clip: rect(1px 1px 1px 1px);clip: rect(1px, 1px, 1px, 1px);height: 1px;margin: -1px;overflow: hidden;padding: 0;position: absolute;width: 1px;}#sk-container-id-2 div.sk-estimator {font-family: monospace;background-color: #f0f8ff;border: 1px dotted black;border-radius: 0.25em;box-sizing: border-box;margin-bottom: 0.5em;}#sk-container-id-2 div.sk-estimator:hover {background-color: #d4ebff;}#sk-container-id-2 div.sk-parallel-item::after {content: \"\";width: 100%;border-bottom: 1px solid gray;flex-grow: 1;}#sk-container-id-2 div.sk-label:hover label.sk-toggleable__label {background-color: #d4ebff;}#sk-container-id-2 div.sk-serial::before {content: \"\";position: absolute;border-left: 1px solid gray;box-sizing: border-box;top: 0;bottom: 0;left: 50%;z-index: 0;}#sk-container-id-2 div.sk-serial {display: flex;flex-direction: column;align-items: center;background-color: white;padding-right: 0.2em;padding-left: 0.2em;position: relative;}#sk-container-id-2 div.sk-item {position: relative;z-index: 1;}#sk-container-id-2 div.sk-parallel {display: flex;align-items: stretch;justify-content: center;background-color: white;position: relative;}#sk-container-id-2 div.sk-item::before, #sk-container-id-2 div.sk-parallel-item::before {content: \"\";position: absolute;border-left: 1px solid gray;box-sizing: border-box;top: 0;bottom: 0;left: 50%;z-index: -1;}#sk-container-id-2 div.sk-parallel-item {display: flex;flex-direction: column;z-index: 1;position: relative;background-color: white;}#sk-container-id-2 div.sk-parallel-item:first-child::after {align-self: flex-end;width: 50%;}#sk-container-id-2 div.sk-parallel-item:last-child::after {align-self: flex-start;width: 50%;}#sk-container-id-2 div.sk-parallel-item:only-child::after {width: 0;}#sk-container-id-2 div.sk-dashed-wrapped {border: 1px dashed gray;margin: 0 0.4em 0.5em 0.4em;box-sizing: border-box;padding-bottom: 0.4em;background-color: white;}#sk-container-id-2 div.sk-label label {font-family: monospace;font-weight: bold;display: inline-block;line-height: 1.2em;}#sk-container-id-2 div.sk-label-container {text-align: center;}#sk-container-id-2 div.sk-container {/* jupyter's `normalize.less` sets `[hidden] { display: none; }` but bootstrap.min.css set `[hidden] { display: none !important; }` so we also need the `!important` here to be able to override the default hidden behavior on the sphinx rendered scikit-learn.org. See: https://github.com/scikit-learn/scikit-learn/issues/21755 */display: inline-block !important;position: relative;}#sk-container-id-2 div.sk-text-repr-fallback {display: none;}</style><div id=\"sk-container-id-2\" class=\"sk-top-container\"><div class=\"sk-text-repr-fallback\"><pre>LinearRegression()</pre><b>In a Jupyter environment, please rerun this cell to show the HTML representation or trust the notebook. <br />On GitHub, the HTML representation is unable to render, please try loading this page with nbviewer.org.</b></div><div class=\"sk-container\" hidden><div class=\"sk-item\"><div class=\"sk-estimator sk-toggleable\"><input class=\"sk-toggleable__control sk-hidden--visually\" id=\"sk-estimator-id-2\" type=\"checkbox\" checked><label for=\"sk-estimator-id-2\" class=\"sk-toggleable__label sk-toggleable__label-arrow\">LinearRegression</label><div class=\"sk-toggleable__content\"><pre>LinearRegression()</pre></div></div></div></div></div>"
      ],
      "text/plain": [
       "LinearRegression()"
      ]
     },
     "execution_count": 176,
     "metadata": {},
     "output_type": "execute_result"
    }
   ],
   "source": [
    "linreg.fit(bgr1_train_x,bgr1_train_y)"
   ]
  },
  {
   "cell_type": "code",
   "execution_count": 177,
   "id": "5290a2b0",
   "metadata": {},
   "outputs": [
    {
     "data": {
      "text/plain": [
       "0.501684195664987"
      ]
     },
     "execution_count": 177,
     "metadata": {},
     "output_type": "execute_result"
    }
   ],
   "source": [
    "Rsquare1=linreg.score(bgr1_train_x,bgr1_train_y)\n",
    "Rsquare1"
   ]
  },
  {
   "cell_type": "code",
   "execution_count": 178,
   "id": "8e1031c0",
   "metadata": {},
   "outputs": [
    {
     "data": {
      "text/plain": [
       "0.48835509100504304"
      ]
     },
     "execution_count": 178,
     "metadata": {},
     "output_type": "execute_result"
    }
   ],
   "source": [
    "N=bgr1_train_x.shape[0]\n",
    "K=bgr1_train_x.shape[1]\n",
    "\n",
    "Adjusted_Rsquare1=1-(1-Rsquare1)*(N-1)/(N-K-1)\n",
    "Adjusted_Rsquare1"
   ]
  },
  {
   "cell_type": "code",
   "execution_count": 123,
   "id": "38e57856",
   "metadata": {},
   "outputs": [],
   "source": [
    "def remove_outliers (df,col,k):\n",
    "    mean= df[col].mean()\n",
    "    global df1\n",
    "    sd= df[col].std()\n",
    "    final_list= [x for x in df[col] if (x > mean - k * sd)]\n",
    "    final_list= [x for x in final_list if (x < mean + k * sd)]\n",
    "    df1= df.loc[df[col].isin(final_list)]; print(df1.shape)\n",
    "    print('Number of outliers removed ==>', df.shape[0]- df1.shape[0])"
   ]
  },
  {
   "cell_type": "code",
   "execution_count": 142,
   "id": "39a69918",
   "metadata": {},
   "outputs": [
    {
     "name": "stdout",
     "output_type": "stream",
     "text": [
      "(11827, 248)\n",
      "Number of outliers removed ==> 905\n"
     ]
    }
   ],
   "source": [
    "remove_outliers (bgr1,'Prices',1.8)"
   ]
  },
  {
   "cell_type": "code",
   "execution_count": 179,
   "id": "13425016",
   "metadata": {},
   "outputs": [],
   "source": [
    "pred_test1=linreg.predict(bgr1_train_x)\n",
    "err_test1=bgr1_train_y-pred_test1"
   ]
  },
  {
   "cell_type": "code",
   "execution_count": 180,
   "id": "8f4c3319",
   "metadata": {},
   "outputs": [
    {
     "data": {
      "text/plain": [
       "155.37379440884294"
      ]
     },
     "execution_count": 180,
     "metadata": {},
     "output_type": "execute_result"
    }
   ],
   "source": [
    "mse_train1=np.mean(np.square(err_test1))\n",
    "mse_train1"
   ]
  },
  {
   "cell_type": "code",
   "execution_count": 181,
   "id": "3a464f86",
   "metadata": {},
   "outputs": [
    {
     "data": {
      "text/plain": [
       "19.433820459474944"
      ]
     },
     "execution_count": 181,
     "metadata": {},
     "output_type": "execute_result"
    }
   ],
   "source": [
    "mape_train1=np.mean(np.abs(err_test1*100/bgr1_train_y))\n",
    "mape_train1"
   ]
  },
  {
   "cell_type": "code",
   "execution_count": 182,
   "id": "5c0d4241",
   "metadata": {},
   "outputs": [
    {
     "data": {
      "text/plain": [
       "80.56617954052506"
      ]
     },
     "execution_count": 182,
     "metadata": {},
     "output_type": "execute_result"
    }
   ],
   "source": [
    "Accuracy1=100-mape_train1\n",
    "Accuracy1"
   ]
  },
  {
   "cell_type": "code",
   "execution_count": 183,
   "id": "da0111e1",
   "metadata": {},
   "outputs": [],
   "source": [
    "#test"
   ]
  },
  {
   "cell_type": "code",
   "execution_count": 184,
   "id": "6c541b9f",
   "metadata": {},
   "outputs": [],
   "source": [
    "pred_test2=linreg.predict(bgr1_test_x)\n",
    "err_test2=bgr1_test_y-pred_test2"
   ]
  },
  {
   "cell_type": "code",
   "execution_count": 185,
   "id": "c9fa77a3",
   "metadata": {},
   "outputs": [
    {
     "data": {
      "text/plain": [
       "190.90095429902863"
      ]
     },
     "execution_count": 185,
     "metadata": {},
     "output_type": "execute_result"
    }
   ],
   "source": [
    "mse_test2=np.mean(np.square(err_test2))\n",
    "mse_test2"
   ]
  },
  {
   "cell_type": "code",
   "execution_count": 186,
   "id": "31213b27",
   "metadata": {},
   "outputs": [
    {
     "data": {
      "text/plain": [
       "20.805565016062996"
      ]
     },
     "execution_count": 186,
     "metadata": {},
     "output_type": "execute_result"
    }
   ],
   "source": [
    "mape_test2=np.mean(np.abs(err_test2*100/bgr1_test_y))\n",
    "mape_test2"
   ]
  },
  {
   "cell_type": "code",
   "execution_count": 187,
   "id": "790d246d",
   "metadata": {},
   "outputs": [
    {
     "data": {
      "text/plain": [
       "79.194434983937"
      ]
     },
     "execution_count": 187,
     "metadata": {},
     "output_type": "execute_result"
    }
   ],
   "source": [
    "Accuracy2=100-mape_test2\n",
    "Accuracy2"
   ]
  },
  {
   "cell_type": "code",
   "execution_count": null,
   "id": "05f51647",
   "metadata": {},
   "outputs": [],
   "source": []
  },
  {
   "cell_type": "code",
   "execution_count": null,
   "id": "0af9bdab",
   "metadata": {},
   "outputs": [],
   "source": []
  }
 ],
 "metadata": {
  "kernelspec": {
   "display_name": "Python 3 (ipykernel)",
   "language": "python",
   "name": "python3"
  },
  "language_info": {
   "codemirror_mode": {
    "name": "ipython",
    "version": 3
   },
   "file_extension": ".py",
   "mimetype": "text/x-python",
   "name": "python",
   "nbconvert_exporter": "python",
   "pygments_lexer": "ipython3",
   "version": "3.11.4"
  }
 },
 "nbformat": 4,
 "nbformat_minor": 5
}
